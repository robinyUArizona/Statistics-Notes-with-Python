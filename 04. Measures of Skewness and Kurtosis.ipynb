{
 "cells": [
  {
   "cell_type": "markdown",
   "metadata": {
    "colab": {},
    "colab_type": "code",
    "id": "fanL411qolyH"
   },
   "source": [
    "## Skew and Kurtosis\n",
    "`Skewness` is a measure of symmetry, or more precisely, the lack of symmetry. A distribution, or data set, is symmetric if it looks the same to the left and right of the center point.\n",
    "\n",
    "`Kurtosis` is a measure of whether the data are heavy-tailed or light-tailed relative to a normal distribution. That is, data sets with high kurtosis tend to have heavy tails, or outliers. Data sets with low kurtosis tend to have light tails, or lack of outliers. A uniform distribution would be the extreme case."
   ]
  },
  {
   "cell_type": "code",
   "execution_count": 1,
   "metadata": {},
   "outputs": [
    {
     "name": "stdout",
     "output_type": "stream",
     "text": [
      "[10000, 38500, 82000, 8700, 18300]\n"
     ]
    }
   ],
   "source": [
    "import csv\n",
    "\n",
    "i = 0\n",
    "## List to hold sub sample\n",
    "incomeData = []\n",
    "with open('data/usa.csv', newline='') as myFile:\n",
    "    data = csv.reader(myFile)\n",
    "    for row in data:\n",
    "        i += 1\n",
    "        if row[6] != 'INCTOT': # Remove first row i.e. header\n",
    "            if int(row[6]) > 1: # Taking positive values\n",
    "                if int(row[6]) != 9999999: # Income value of 9999999 is unrealisitc\n",
    "                    incomeData.append(int(row[6]))\n",
    "        \n",
    "        # size of our sample\n",
    "        if i > 30000:\n",
    "            break\n",
    "print(incomeData[0:5])"
   ]
  },
  {
   "cell_type": "code",
   "execution_count": 2,
   "metadata": {},
   "outputs": [
    {
     "name": "stdout",
     "output_type": "stream",
     "text": [
      "Sample Size:  21883\n",
      "Mean:  39579.76557144816\n",
      "Variance:  2504546686.3267283\n",
      "Standard Deviation:  50045.446209687536\n"
     ]
    }
   ],
   "source": [
    "# Sample Size\n",
    "sampleSize = len(incomeData)\n",
    "print('Sample Size: ', sampleSize)\n",
    "\n",
    "# Sample Mean\n",
    "totalSumIncome = 0\n",
    "for row in incomeData:\n",
    "    totalSumIncome = row + totalSumIncome\n",
    "    \n",
    "mean = totalSumIncome / sampleSize\n",
    "print('Mean: ', mean)\n",
    "\n",
    "# Variance\n",
    "sumOfSquares = 0\n",
    "s3 = 0\n",
    "s4 = 0\n",
    "\n",
    "for row in incomeData:\n",
    "    deviationScore = row - mean\n",
    "    sumOfSquares = deviationScore**2 + sumOfSquares\n",
    "    s3 = deviationScore**3 + s3\n",
    "    s4 = deviationScore**4 + s4\n",
    "    \n",
    "variance = sumOfSquares/(sampleSize - 1)\n",
    "print('Variance: ', variance)\n",
    "\n",
    "\n",
    "# Standard Deviation\n",
    "SD = variance**0.5\n",
    "print('Standard Deviation: ', SD)\n",
    "\n"
   ]
  },
  {
   "cell_type": "markdown",
   "metadata": {},
   "source": [
    "### Kurtosis"
   ]
  },
  {
   "cell_type": "code",
   "execution_count": 3,
   "metadata": {},
   "outputs": [
    {
     "name": "stdout",
     "output_type": "stream",
     "text": [
      "Population Kurtosis:  28.869652964520665\n",
      "Sample Kurtosis:  28.87693599168334\n"
     ]
    }
   ],
   "source": [
    "n = sampleSize\n",
    "s2 = sumOfSquares\n",
    "m2 = s2/n\n",
    "m4 = s4/n\n",
    "\n",
    "populationKurtosis = (m4/m2**2) - 3\n",
    "print('Population Kurtosis: ', populationKurtosis)\n",
    "\n",
    "sampleKurtosis = ((n*(n+1)) / ((n-1)*(n-2)*(n-3))) * ((n-1)**2)*(s4/(s2**2)) - 3\n",
    "print('Sample Kurtosis: ', sampleKurtosis)\n"
   ]
  },
  {
   "cell_type": "markdown",
   "metadata": {},
   "source": [
    "### Skewness"
   ]
  },
  {
   "cell_type": "code",
   "execution_count": 4,
   "metadata": {},
   "outputs": [
    {
     "name": "stdout",
     "output_type": "stream",
     "text": [
      "Sample Skewness:  4.442958947034826\n"
     ]
    }
   ],
   "source": [
    "sampleSkew = s3/((n-1)*SD**3)\n",
    "print('Sample Skewness: ', sampleSkew)"
   ]
  },
  {
   "cell_type": "markdown",
   "metadata": {},
   "source": [
    "#### Let's check our work"
   ]
  },
  {
   "cell_type": "code",
   "execution_count": 5,
   "metadata": {},
   "outputs": [
    {
     "name": "stdout",
     "output_type": "stream",
     "text": [
      "Test Kurtosis:  INCTOT    28.876525\n",
      "dtype: float64\n",
      "Test Skew:  INCTOT    4.443365\n",
      "dtype: float64\n"
     ]
    }
   ],
   "source": [
    "import pandas as pd\n",
    "df_income = pd.DataFrame({'INCTOT':incomeData})\n",
    "testKurtosis = pd.Series.kurtosis(df_income)\n",
    "print('Test Kurtosis: ', testKurtosis)\n",
    "\n",
    "testSkew = df_income.skew()\n",
    "print('Test Skew: ', testSkew)"
   ]
  },
  {
   "cell_type": "code",
   "execution_count": null,
   "metadata": {},
   "outputs": [],
   "source": []
  }
 ],
 "metadata": {
  "colab": {
   "authorship_tag": "ABX9TyOqt9kc1PIO8k+PCL36Dpzv",
   "name": "Untitled0.ipynb",
   "provenance": []
  },
  "kernelspec": {
   "display_name": "Python 3",
   "language": "python",
   "name": "python3"
  },
  "language_info": {
   "codemirror_mode": {
    "name": "ipython",
    "version": 3
   },
   "file_extension": ".py",
   "mimetype": "text/x-python",
   "name": "python",
   "nbconvert_exporter": "python",
   "pygments_lexer": "ipython3",
   "version": "3.7.4"
  }
 },
 "nbformat": 4,
 "nbformat_minor": 1
}
