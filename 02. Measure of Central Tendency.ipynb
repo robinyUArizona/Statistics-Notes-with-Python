{
 "cells": [
  {
   "cell_type": "markdown",
   "metadata": {},
   "source": [
    "## Mean, Mode, and Median "
   ]
  },
  {
   "cell_type": "code",
   "execution_count": 1,
   "metadata": {},
   "outputs": [
    {
     "name": "stdout",
     "output_type": "stream",
     "text": [
      "I worked!\n"
     ]
    }
   ],
   "source": [
    "# -*- coding: utf-8 -*-\n",
    "\n",
    "import csv\n",
    "print(\"I worked!\")"
   ]
  },
  {
   "cell_type": "code",
   "execution_count": 2,
   "metadata": {},
   "outputs": [],
   "source": [
    "i = 0\n",
    "\n",
    "## List to hold sub sample\n",
    "data_list = []\n",
    "with open('data/usa.csv', newline='') as myFile:\n",
    "    data = csv.reader(myFile)\n",
    "    for row in data:\n",
    "#        print(i, row)\n",
    "        i += 1\n",
    "        data_list.append(row)\n",
    "        \n",
    "        # size of our sample\n",
    "        if i > 30000:\n",
    "            break"
   ]
  },
  {
   "cell_type": "code",
   "execution_count": 3,
   "metadata": {},
   "outputs": [
    {
     "data": {
      "text/html": [
       "<div>\n",
       "<style scoped>\n",
       "    .dataframe tbody tr th:only-of-type {\n",
       "        vertical-align: middle;\n",
       "    }\n",
       "\n",
       "    .dataframe tbody tr th {\n",
       "        vertical-align: top;\n",
       "    }\n",
       "\n",
       "    .dataframe thead th {\n",
       "        text-align: right;\n",
       "    }\n",
       "</style>\n",
       "<table border=\"1\" class=\"dataframe\">\n",
       "  <thead>\n",
       "    <tr style=\"text-align: right;\">\n",
       "      <th></th>\n",
       "      <th>SEX</th>\n",
       "      <th>AGE</th>\n",
       "      <th>RACE</th>\n",
       "      <th>RACED</th>\n",
       "      <th>EDUC</th>\n",
       "      <th>EDUCD</th>\n",
       "      <th>INCTOT</th>\n",
       "    </tr>\n",
       "  </thead>\n",
       "  <tbody>\n",
       "    <tr>\n",
       "      <th>0</th>\n",
       "      <td>1</td>\n",
       "      <td>73</td>\n",
       "      <td>2</td>\n",
       "      <td>200</td>\n",
       "      <td>2</td>\n",
       "      <td>25</td>\n",
       "      <td>10000</td>\n",
       "    </tr>\n",
       "    <tr>\n",
       "      <th>1</th>\n",
       "      <td>2</td>\n",
       "      <td>31</td>\n",
       "      <td>1</td>\n",
       "      <td>100</td>\n",
       "      <td>10</td>\n",
       "      <td>101</td>\n",
       "      <td>38500</td>\n",
       "    </tr>\n",
       "    <tr>\n",
       "      <th>2</th>\n",
       "      <td>1</td>\n",
       "      <td>41</td>\n",
       "      <td>1</td>\n",
       "      <td>100</td>\n",
       "      <td>6</td>\n",
       "      <td>64</td>\n",
       "      <td>82000</td>\n",
       "    </tr>\n",
       "    <tr>\n",
       "      <th>3</th>\n",
       "      <td>2</td>\n",
       "      <td>48</td>\n",
       "      <td>1</td>\n",
       "      <td>100</td>\n",
       "      <td>6</td>\n",
       "      <td>63</td>\n",
       "      <td>8700</td>\n",
       "    </tr>\n",
       "    <tr>\n",
       "      <th>4</th>\n",
       "      <td>1</td>\n",
       "      <td>16</td>\n",
       "      <td>1</td>\n",
       "      <td>100</td>\n",
       "      <td>4</td>\n",
       "      <td>40</td>\n",
       "      <td>0</td>\n",
       "    </tr>\n",
       "  </tbody>\n",
       "</table>\n",
       "</div>"
      ],
      "text/plain": [
       "   SEX  AGE  RACE  RACED  EDUC  EDUCD  INCTOT\n",
       "0    1   73     2    200     2     25   10000\n",
       "1    2   31     1    100    10    101   38500\n",
       "2    1   41     1    100     6     64   82000\n",
       "3    2   48     1    100     6     63    8700\n",
       "4    1   16     1    100     4     40       0"
      ]
     },
     "execution_count": 3,
     "metadata": {},
     "output_type": "execute_result"
    }
   ],
   "source": [
    "import pandas as pd\n",
    "\n",
    "df = pd.read_csv(\"data/usa.csv\", nrows = 30000)\n",
    "df.head()"
   ]
  },
  {
   "cell_type": "markdown",
   "metadata": {},
   "source": [
    "### Mean"
   ]
  },
  {
   "cell_type": "code",
   "execution_count": 4,
   "metadata": {},
   "outputs": [
    {
     "name": "stdout",
     "output_type": "stream",
     "text": [
      "['SEX', 'AGE', 'RACE', 'RACED', 'EDUC', 'EDUCD', 'INCTOT']\n",
      "34690.20592829962\n"
     ]
    }
   ],
   "source": [
    "## The average calculation:\n",
    "# Sum all of the data points of a variables and divide by the number of points\n",
    "\n",
    "print(data_list[0])\n",
    "\n",
    "# ['SEX', 'AGE', 'RACE', 'RACED', 'EDUC', 'EDUCD', 'INCTOT']\n",
    "# [ 0      1       2        3        4       5        6]\n",
    "\n",
    "sumTotal = 0\n",
    "sampleSize = 0\n",
    "for row in data_list[1:]:\n",
    "    if int(row[6]) != 9999999:\n",
    "        sumTotal = int(row[6]) + sumTotal\n",
    "        sampleSize += 1\n",
    "#     print(row)\n",
    "average = sumTotal / sampleSize\n",
    "print(average)"
   ]
  },
  {
   "cell_type": "markdown",
   "metadata": {},
   "source": [
    "Average Income = 1707201.1985333334 ---- Is this correct? <br> \n",
    "Ans: No -- Some issues\n",
    "\n",
    "#### Fix\n",
    "Add if statement to negelect income equals 9999999\n",
    "\n",
    "Ans: 34690.20 -- More realistic"
   ]
  },
  {
   "cell_type": "markdown",
   "metadata": {},
   "source": [
    "### Mode\n",
    "\n",
    "How the race variable is coded?"
   ]
  },
  {
   "cell_type": "code",
   "execution_count": 5,
   "metadata": {},
   "outputs": [
    {
     "data": {
      "text/plain": [
       "1    22068\n",
       "2     6523\n",
       "8      478\n",
       "6      314\n",
       "7      305\n",
       "3      158\n",
       "4       73\n",
       "9       43\n",
       "5       38\n",
       "Name: RACE, dtype: int64"
      ]
     },
     "execution_count": 5,
     "metadata": {},
     "output_type": "execute_result"
    }
   ],
   "source": [
    "## Get the different races\n",
    "df['RACE'].value_counts()"
   ]
  },
  {
   "cell_type": "code",
   "execution_count": 6,
   "metadata": {},
   "outputs": [
    {
     "name": "stdout",
     "output_type": "stream",
     "text": [
      "Race counts:  22068 6523 158 73 38 314 305 478 43\n",
      "Mode:  22068\n"
     ]
    }
   ],
   "source": [
    "white = 0 #1\n",
    "black = 0 #2\n",
    "american_indian = 0 #3\n",
    "chinese = 0 #4\n",
    "japanese = 0 #5\n",
    "other_asian = 0 #6\n",
    "other_race = 0 #7\n",
    "two_races = 0 #8\n",
    "three_races = 0 #9\n",
    "\n",
    "for row in data_list[1:]:\n",
    "    \n",
    "    if row[2] =='1':\n",
    "        white += 1\n",
    "    if row[2] == '2':\n",
    "        black += 1\n",
    "    if row[2] == '3':\n",
    "        american_indian += 1\n",
    "    if row[2] == '4':\n",
    "        chinese += 1\n",
    "    if row[2] == '5':\n",
    "        japanese += 1\n",
    "    if row[2] == '6':\n",
    "        other_asian += 1\n",
    "    if row[2] == '7':\n",
    "        other_race += 1\n",
    "    if row[2] == '8':\n",
    "        two_races += 1\n",
    "    if row[2] == '9':\n",
    "        three_races += 1\n",
    "        \n",
    "mode = max(white, black, american_indian, chinese, japanese, \n",
    "           other_asian, other_race, two_races, three_races )\n",
    "print('Race counts: ', white, black, american_indian, chinese, japanese, \n",
    "           other_asian, other_race, two_races, three_races)\n",
    "print('Mode: ', mode)\n",
    "    "
   ]
  },
  {
   "cell_type": "code",
   "execution_count": 7,
   "metadata": {},
   "outputs": [
    {
     "data": {
      "text/plain": [
       "0    1\n",
       "dtype: int64"
      ]
     },
     "execution_count": 7,
     "metadata": {},
     "output_type": "execute_result"
    }
   ],
   "source": [
    "df['RACE'].mode()"
   ]
  },
  {
   "cell_type": "markdown",
   "metadata": {},
   "source": [
    "### Median"
   ]
  },
  {
   "cell_type": "code",
   "execution_count": 8,
   "metadata": {},
   "outputs": [
    {
     "name": "stdout",
     "output_type": "stream",
     "text": [
      "Median of Education:  6\n"
     ]
    }
   ],
   "source": [
    "medianEdu = 0\n",
    "def takeFourth(elem):\n",
    "    return elem[4] #4 is edu\n",
    "\n",
    "data_list.sort(key=takeFourth)\n",
    "# print(data_list)\n",
    "sampleSize = len(data_list)\n",
    "middle = sampleSize/2\n",
    "medianEdu = data_list[int(round(middle))]\n",
    "print(\"Median of Education: \", medianEdu[4])"
   ]
  },
  {
   "cell_type": "markdown",
   "metadata": {},
   "source": [
    "#### 6 is grade 12"
   ]
  },
  {
   "cell_type": "code",
   "execution_count": 9,
   "metadata": {},
   "outputs": [
    {
     "data": {
      "text/plain": [
       "6.0"
      ]
     },
     "execution_count": 9,
     "metadata": {},
     "output_type": "execute_result"
    }
   ],
   "source": [
    "df['EDUC'].median()"
   ]
  },
  {
   "cell_type": "code",
   "execution_count": 10,
   "metadata": {},
   "outputs": [
    {
     "name": "stdout",
     "output_type": "stream",
     "text": [
      "Median of Education:  ['1', '38', '1', '100', '6', '63', '35000']\n"
     ]
    }
   ],
   "source": [
    "medianIncome = 0\n",
    "def takeSixth(elem):\n",
    "    return elem[6] #6 is Income\n",
    "\n",
    "data_list.sort(key=takeSixth)\n",
    "# print(data_list)\n",
    "sampleSize = len(data_list)\n",
    "middle = sampleSize/2\n",
    "medianIncome = data_list[int(round(middle))]\n",
    "print(\"Median of Education: \", medianIncome)"
   ]
  },
  {
   "cell_type": "code",
   "execution_count": 11,
   "metadata": {},
   "outputs": [
    {
     "data": {
      "text/plain": [
       "29800.0"
      ]
     },
     "execution_count": 11,
     "metadata": {},
     "output_type": "execute_result"
    }
   ],
   "source": [
    "df['INCTOT'].median()"
   ]
  },
  {
   "cell_type": "code",
   "execution_count": null,
   "metadata": {},
   "outputs": [],
   "source": []
  }
 ],
 "metadata": {
  "kernelspec": {
   "display_name": "Python 3",
   "language": "python",
   "name": "python3"
  },
  "language_info": {
   "codemirror_mode": {
    "name": "ipython",
    "version": 3
   },
   "file_extension": ".py",
   "mimetype": "text/x-python",
   "name": "python",
   "nbconvert_exporter": "python",
   "pygments_lexer": "ipython3",
   "version": "3.7.4"
  }
 },
 "nbformat": 4,
 "nbformat_minor": 4
}
