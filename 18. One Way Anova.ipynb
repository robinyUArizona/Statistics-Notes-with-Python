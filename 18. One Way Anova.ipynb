{
 "cells": [
  {
   "cell_type": "code",
   "execution_count": 1,
   "metadata": {},
   "outputs": [],
   "source": [
    "from math import gamma\n",
    "from decimal import *\n",
    "import csv\n",
    "import scipy.integrate\n",
    "\n",
    "getcontext().prec = 100\n",
    "\n",
    "def f_probability_distro_function(f, df1, df2):\n",
    "    top = ((Decimal(df1)*Decimal(f))**(Decimal(df1))) * ((Decimal(df2))**(Decimal(df2)))\n",
    "    bottom = ((Decimal(df1)*Decimal(f)) + (Decimal(df2)))**((Decimal(df1)) + (Decimal(df2)))\n",
    "    num = ((Decimal(top)) / Decimal(bottom))**Decimal(0.5)\n",
    "    a = df1/2\n",
    "    b = df2/2\n",
    "    beta = (gamma(a)*gamma(b)) / gamma(a+b)\n",
    "    denom = f*beta\n",
    "    pdf = float(num)/float(denom)\n",
    "    return pdf"
   ]
  },
  {
   "cell_type": "code",
   "execution_count": 2,
   "metadata": {},
   "outputs": [],
   "source": [
    "def getPFromF(f, df1, df2):\n",
    "    probability, error = scipy.integrate.quad(f_probability_distro_function, \n",
    "                                              0, f,\n",
    "                                              args=(df1, df2))\n",
    "    return probability"
   ]
  },
  {
   "cell_type": "code",
   "execution_count": 3,
   "metadata": {},
   "outputs": [],
   "source": [
    "## Function for Mean\n",
    "def getMean(sample):\n",
    "    sampleSize = len(sample)\n",
    "    totalSumIncome = 0\n",
    "    for row in sample:\n",
    "        totalSumIncome = row + totalSumIncome\n",
    "    mean = totalSumIncome / sampleSize\n",
    "    return mean"
   ]
  },
  {
   "cell_type": "code",
   "execution_count": 4,
   "metadata": {},
   "outputs": [],
   "source": [
    "##\n",
    "def calculate_f(factor):\n",
    "    # calculate mean for each level of the factor\n",
    "    means = []\n",
    "    groupSize = len(factor[0])\n",
    "    for level in factor:\n",
    "        mean = getMean(level)\n",
    "        means.append(mean)\n",
    "    overAllMean = getMean(means)\n",
    "    \n",
    "    # Between group sum of squares\n",
    "    betweenGroupSumOfSquares = 0\n",
    "    for mean in means:\n",
    "        deviationScore = groupSize*((mean - overAllMean)**2)\n",
    "        betweenGroupSumOfSquares += deviationScore\n",
    "    numOfGroups = len(factor)\n",
    "    \n",
    "    # between groups degress of freedom\n",
    "    betweenGroupsDF = numOfGroups - 1\n",
    "    betweenGroupsMeanSquare = betweenGroupSumOfSquares/betweenGroupsDF\n",
    "    withinGroupsSumOfSquares = 0\n",
    "    for mean, level in zip(means, factor):\n",
    "        for value in level:\n",
    "            deviationScore = value - mean\n",
    "            withinGroupsSumOfSquares += deviationScore**2\n",
    "    withinGroupsDF = numOfGroups*(groupSize - 1)\n",
    "    withinGroupMeanSquare = withinGroupsSumOfSquares / withinGroupsDF\n",
    "    \n",
    "    # And finally the f ratio!\n",
    "    F = betweenGroupsMeanSquare/withinGroupMeanSquare\n",
    "    \n",
    "    return F, betweenGroupsMeanSquare, withinGroupsSumOfSquares\n",
    "    "
   ]
  },
  {
   "cell_type": "code",
   "execution_count": 5,
   "metadata": {},
   "outputs": [],
   "source": [
    "\n",
    "def oneWayANOVA(factor, alpha):\n",
    "    significant = False\n",
    "    F, betweenGroupsMeanSquare, withinGroupMeanSquare = calculate_f(factor)\n",
    "    dfBetween = len(factor) - 1\n",
    "    dfWithin = len(factor)*(len(factor[0]) - 1)\n",
    "    dfWithinUsed = dfWithin\n",
    "    if dfWithinUsed >= 300:\n",
    "        print('Warning: dfWithin set to 300 to prevent a math overflow error.\\n')\n",
    "        dfWithinUsed = 300\n",
    "    p = getPFromF(F, dfBetween, dfWithinUsed)\n",
    "    if p > (1 - alpha):\n",
    "        significant = True\n",
    "    return round(p, 7), round(F, 4), significant, dfBetween, dfWithin"
   ]
  },
  {
   "cell_type": "code",
   "execution_count": 6,
   "metadata": {},
   "outputs": [],
   "source": [
    "##\n",
    "white = [] #1\n",
    "black = [] #2\n",
    "american_indian = [] #3\n",
    "chinese = [] #4\n",
    "japanese = [] #5\n",
    "other_asian = [] #6\n",
    "other_race = [] #7\n",
    "two_races = [] #8\n",
    "three_races = [] #9\n",
    "\n",
    "with open('data/usa.csv', newline='') as newFile:\n",
    "    data = csv.reader(newFile)\n",
    "    for row in data:\n",
    "        if row[6] != 'INCTOT':\n",
    "            if int(row[6]) != 9999999:\n",
    "                if int(row[6]) > 1:\n",
    "                    if int(row[1]) > 17:\n",
    "                        if int(row[2]) == 1:\n",
    "                            white.append(int(row[6]))\n",
    "                        elif int(row[2]) == 2:\n",
    "                            black.append(int(row[6]))\n",
    "                        elif int(row[2]) == 3:\n",
    "                            american_indian.append(int(row[6]))\n",
    "                        elif int(row[2]) == 4:\n",
    "                            chinese.append(int(row[6]))\n",
    "                        elif int(row[2]) == 5:\n",
    "                            japanese.append(int(row[6]))\n",
    "                        elif int(row[2]) == 6:\n",
    "                            other_asian.append(int(row[6]))\n",
    "                        elif int(row[2]) == 7:\n",
    "                            other_race.append(int(row[6]))\n",
    "                        elif int(row[2]) == 8:\n",
    "                            two_races.append(int(row[6]))\n",
    "                        elif int(row[2]) == 9:\n",
    "                            three_races.append(int(row[6]))\n",
    "                                         "
   ]
  },
  {
   "cell_type": "code",
   "execution_count": 7,
   "metadata": {},
   "outputs": [
    {
     "name": "stdout",
     "output_type": "stream",
     "text": [
      "Warning: dfWithin set to 300 to prevent a math overflow error.\n",
      "\n",
      "There were statistically significant differences between group means  as determined by a one-way ANOVA F( 8 , 891 ) = 4.293 , p= 6.59e-05\n"
     ]
    }
   ],
   "source": [
    "import random\n",
    "sampleSize = 100\n",
    "\n",
    "whiteSample = random.sample(white, sampleSize)\n",
    "blackSample = random.sample(black, sampleSize)\n",
    "american_indianSample = random.sample(american_indian, sampleSize)\n",
    "chineseSample = random.sample(chinese, sampleSize)\n",
    "japaneseSample = random.sample(japanese, sampleSize)\n",
    "other_asianSample = random.sample(other_asian, sampleSize)\n",
    "other_racesSample = random.sample(other_race, sampleSize)\n",
    "two_racesSample = random.sample(two_races, sampleSize)\n",
    "three_racesSample = random.sample(three_races, sampleSize)\n",
    "\n",
    "raceFactor = []\n",
    "raceFactor.append(whiteSample)\n",
    "raceFactor.append(blackSample)\n",
    "raceFactor.append(american_indianSample)\n",
    "raceFactor.append(chineseSample)\n",
    "raceFactor.append(japaneseSample)\n",
    "raceFactor.append(other_asianSample)\n",
    "raceFactor.append(other_racesSample)\n",
    "raceFactor.append(two_racesSample)\n",
    "raceFactor.append(three_racesSample)\n",
    "\n",
    "\n",
    "alpha = 0.05\n",
    "p, F, significance, dfBetween, dfWithin = oneWayANOVA(raceFactor, alpha)\n",
    "\n",
    "if significance:\n",
    "    # we will start on ad hoc tests next video\n",
    "    print('There were statistically significant differences between group means',\n",
    "         ' as determined by a one-way ANOVA F(', dfBetween ,',' , dfWithin, ') =', F,\n",
    "         ', p=', round(1-p, 7))\n",
    "if not significance:\n",
    "    # we will start on ad hoc tests next video\n",
    "    print('There were NO statistically significant differences between group means',\n",
    "         ' as determined by a one-way ANOVA F(', dfBetween ,',' , dfWithin, ') =', F,\n",
    "         ', p=', round(1-p, 7))"
   ]
  },
  {
   "cell_type": "code",
   "execution_count": null,
   "metadata": {},
   "outputs": [],
   "source": []
  },
  {
   "cell_type": "code",
   "execution_count": null,
   "metadata": {},
   "outputs": [],
   "source": []
  }
 ],
 "metadata": {
  "kernelspec": {
   "display_name": "Python 3",
   "language": "python",
   "name": "python3"
  },
  "language_info": {
   "codemirror_mode": {
    "name": "ipython",
    "version": 3
   },
   "file_extension": ".py",
   "mimetype": "text/x-python",
   "name": "python",
   "nbconvert_exporter": "python",
   "pygments_lexer": "ipython3",
   "version": "3.7.4"
  }
 },
 "nbformat": 4,
 "nbformat_minor": 4
}
