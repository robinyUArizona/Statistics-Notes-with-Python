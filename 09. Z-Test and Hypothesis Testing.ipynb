{
 "cells": [
  {
   "cell_type": "code",
   "execution_count": 1,
   "metadata": {},
   "outputs": [],
   "source": [
    "\n",
    "import csv\n",
    "\n",
    "generalPopIncomeData = []\n",
    "blackIncomeData = []\n",
    "\n",
    "with open('data/usa.csv', newline='') as myFile:\n",
    "    data = csv.reader(myFile)\n",
    "    for row in data:\n",
    "        if row[6] != 'INCTOT':\n",
    "            if int(row[6]) > 1:\n",
    "                if int(row[6]) != 999999:\n",
    "                    if int(row[1]) > 17:\n",
    "                        if int(row[4]) >= 11: # education 5+ years\n",
    "                            generalPopIncomeData.append(int(row[6]))\n",
    "                            if int(row[2]) == 2: ## Black Women to General Population\n",
    "                                if int(row[0]) == 2:\n",
    "                                    blackIncomeData.append(int(row[6]))"
   ]
  },
  {
   "cell_type": "code",
   "execution_count": 2,
   "metadata": {},
   "outputs": [],
   "source": [
    "## Function for Mean\n",
    "def getMean(sampleList):\n",
    "    sampleSize = len(sampleList)\n",
    "    totalSumIncome = 0\n",
    "    for row in sampleList:\n",
    "        totalSumIncome = row + totalSumIncome\n",
    "    mean = totalSumIncome / sampleSize\n",
    "    return mean\n",
    "\n",
    "## Finding Mean\n",
    "mean = getMean(generalPopIncomeData)\n",
    "\n",
    "## Function target population Standard Deviation\n",
    "def getPopSD(sampleList, mean):\n",
    "    sumOfSquares = 0\n",
    "    sampleSize = len(sampleList)\n",
    "    for row in sampleList:\n",
    "        deviationScore = row - mean\n",
    "        sumOfSquares = deviationScore**2 + sumOfSquares\n",
    "    \n",
    "    # Rather than sampleSize-1 like in sample SD\n",
    "    variance = sumOfSquares/sampleSize\n",
    "    popSD = variance**0.5\n",
    "    return popSD\n",
    "\n",
    "## Function target sample Standard Deviation\n",
    "def getSampleSD(sampleList, mean):\n",
    "    sumOfSquares = 0\n",
    "    sampleSize = len(sampleList)\n",
    "    for row in sampleList:\n",
    "        deviationScore = row - mean\n",
    "        sumOfSquares = deviationScore**2 + sumOfSquares\n",
    "    \n",
    "  \n",
    "    variance = sumOfSquares/ (sampleSize-1)\n",
    "    sampleSD = variance**0.5\n",
    "    return sampleSD"
   ]
  },
  {
   "cell_type": "code",
   "execution_count": 3,
   "metadata": {},
   "outputs": [],
   "source": [
    "## Population Standard Error\n",
    "def getPopStandardError(sampleList):\n",
    "    sampleSize = len(sampleList)\n",
    "    popSD = getPopSD(sampleList, mean)\n",
    "    # standard error of the mean for the population\n",
    "    PSE = popSD / sampleSize**0.5\n",
    "    return PSE\n",
    "\n",
    "## Sample Standard Error\n",
    "def getSampleStandardError(sampleList):\n",
    "    sampleSize = len(sampleList)\n",
    "    sampleSD = getSampleSD(sampleList, mean)\n",
    "    # standard error of the mean for the population\n",
    "    SSE = sampleSD / sampleSize**0.5\n",
    "    return SSE"
   ]
  },
  {
   "cell_type": "code",
   "execution_count": 4,
   "metadata": {},
   "outputs": [],
   "source": [
    "#Z = (sampleMean - PopulationMean)/StandardError\n",
    "def getZscore(sampleList, population):\n",
    "    sampleMean = getMean(sampleList)\n",
    "    populationMean = getMean(population)\n",
    "    SSE = getSampleStandardError(sampleList)\n",
    "    Z = (sampleMean - populationMean) / SSE\n",
    "    return Z"
   ]
  },
  {
   "cell_type": "code",
   "execution_count": 5,
   "metadata": {},
   "outputs": [],
   "source": [
    "def getProbabilityFromZ(Z):\n",
    "    z = round(float(Z), 2)\n",
    "    probability = 0\n",
    "    if z < -4:\n",
    "        return 0.000\n",
    "    elif z > 4:\n",
    "        return 1.000\n",
    "    else:\n",
    "        with open('data/z_table.csv', newline='') as zFile:\n",
    "            zData = csv.reader(zFile)\n",
    "            for row in zData:\n",
    "                if z == float(row[0]):\n",
    "                    probability = float(row[1])\n",
    "                return probability"
   ]
  },
  {
   "cell_type": "code",
   "execution_count": 6,
   "metadata": {},
   "outputs": [
    {
     "name": "stdout",
     "output_type": "stream",
     "text": [
      "0.025\n",
      "0.975\n"
     ]
    }
   ],
   "source": [
    "def testHypothesis(p, alpha = 0.05, testType = 'two-tailed'):\n",
    "    if testType == 'two-tailed':\n",
    "        if p < (alpha/2) or p > (1-(alpha/2)):\n",
    "            return True\n",
    "        else: \n",
    "            return False\n",
    "    if testType == 'one-tailed negative':\n",
    "        if p < (alpha):\n",
    "            return True\n",
    "        else: \n",
    "            return False\n",
    "    if testType == 'one-tailed positive':\n",
    "        if p > (alpha):\n",
    "            return True\n",
    "        else: \n",
    "            return False\n",
    "\n",
    "print(0.05/2)\n",
    "print(1-(0.05/2))"
   ]
  },
  {
   "cell_type": "markdown",
   "metadata": {},
   "source": [
    "`Null Hypothesis: ` Black people income will be same as general population <br>\n",
    "`Alternative Hypothesis: `Black people income will be differen that general population"
   ]
  },
  {
   "cell_type": "code",
   "execution_count": 7,
   "metadata": {},
   "outputs": [
    {
     "name": "stdout",
     "output_type": "stream",
     "text": [
      "-53.12347565432261\n",
      "0.0\n"
     ]
    }
   ],
   "source": [
    "# Now the actual z test\n",
    "zScore = getZscore(blackIncomeData, generalPopIncomeData)\n",
    "print(zScore)\n",
    "\n",
    "p = getProbabilityFromZ(zScore)\n",
    "# p = 0.020\n",
    "print(p)"
   ]
  },
  {
   "cell_type": "code",
   "execution_count": 9,
   "metadata": {},
   "outputs": [
    {
     "name": "stdout",
     "output_type": "stream",
     "text": [
      "Black Female income is significantly different from the income of the general population. We therefore reject the null hypothesis.\n",
      "\n",
      "Black Female Income Mean:  64192.02722662158\n",
      "Black Female Income Sample Size:  11239\n",
      "General Population Mean:  96402.94818796858\n",
      "General Population Sample Size:  284239\n",
      "Z Score:  -53.12347565432261\n",
      "p:  0.0\n"
     ]
    }
   ],
   "source": [
    "##\n",
    "\n",
    "if testHypothesis(p):\n",
    "    print('Black Female income is significantly different from the income of the general population' + \n",
    "          '. We therefore reject the null hypothesis.\\n')\n",
    "    blackIncomeMean = getMean(blackIncomeData)\n",
    "    generalPopulationMean = getMean(generalPopIncomeData)\n",
    "    blackSampleSize = len(blackIncomeData)\n",
    "    generalPopSampleSize = len(generalPopIncomeData)\n",
    "\n",
    "    print('Black Female Income Mean: ', blackIncomeMean)\n",
    "    print('Black Female Income Sample Size: ', blackSampleSize)\n",
    "    print('General Population Mean: ', generalPopulationMean)\n",
    "    print('General Population Sample Size: ', generalPopSampleSize)\n",
    "    print('Z Score: ', zScore)\n",
    "    print('p: ', p)\n",
    "\n",
    "else:\n",
    "    print('Black Female income is not siginificantly different from the income of the general population' + \n",
    "          '. We therefore fail to reject the null hypothesis.\\n')\n",
    "    blackIncomeMean = getMean(blackIncomeData)\n",
    "    generalPopulationMean = getMean(generalPopIncomeData)\n",
    "    blackSampleSize = len(blackIncomeData)\n",
    "    generalPopSampleSize = len(generalPopIncomeData)\n",
    "\n",
    "    print('Black Female Income Mean: ', blackIncomeMean)\n",
    "    print('Black Female Income Sample Size: ', blackSampleSize)\n",
    "    print('General Population Mean: ', generalPopulationMean)\n",
    "    print('General Population Sample Size: ', generalPopSampleSize)\n",
    "    print('Z Score: ', zScore)\n",
    "    print('p: ', p)"
   ]
  },
  {
   "cell_type": "code",
   "execution_count": null,
   "metadata": {},
   "outputs": [],
   "source": []
  },
  {
   "cell_type": "code",
   "execution_count": null,
   "metadata": {},
   "outputs": [],
   "source": []
  }
 ],
 "metadata": {
  "kernelspec": {
   "display_name": "Python 3",
   "language": "python",
   "name": "python3"
  },
  "language_info": {
   "codemirror_mode": {
    "name": "ipython",
    "version": 3
   },
   "file_extension": ".py",
   "mimetype": "text/x-python",
   "name": "python",
   "nbconvert_exporter": "python",
   "pygments_lexer": "ipython3",
   "version": "3.7.4"
  }
 },
 "nbformat": 4,
 "nbformat_minor": 4
}
