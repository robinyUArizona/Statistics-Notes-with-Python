{
 "cells": [
  {
   "cell_type": "code",
   "execution_count": 1,
   "metadata": {},
   "outputs": [],
   "source": [
    "import csv\n",
    "\n",
    "incomeData = []\n",
    "\n",
    "with open('data/usa.csv', newline = '') as myFile:\n",
    "    data = csv.reader(myFile)\n",
    "    for row in data:\n",
    "        #skip the header\n",
    "        if row[6] != 'INCTOT':\n",
    "            #Skip anyone who did not earn or had a negative income\n",
    "            if int(row[6]) > 1:\n",
    "                # skip NA\n",
    "                if int(row[6]) != 9999999:\n",
    "                    #Akip anyone under the age of 18\n",
    "                    if int(row[1]) > 17:\n",
    "                        incomeData.append(int(row[6]))\n"
   ]
  },
  {
   "cell_type": "code",
   "execution_count": 2,
   "metadata": {},
   "outputs": [],
   "source": [
    "##Function for Mean\n",
    "def getMean(sampleList):\n",
    "    sampleSize = len(sampleList)\n",
    "    totalSumIncome = 0\n",
    "    for row in sampleList:\n",
    "        totalSumIncome = row + totalSumIncome\n",
    "    mean = totalSumIncome / sampleSize\n",
    "    return mean\n",
    "\n",
    "## Function target population Standard Deviation\n",
    "def getPopSD(sampleList, mean):\n",
    "    sumOfSquares = 0\n",
    "    sampleSize = len(sampleList)\n",
    "    for row in sampleList:\n",
    "        deviationScore = row - mean\n",
    "        sumOfSquares = deviationScore**2 + sumOfSquares\n",
    "    \n",
    "    # Rather than sampleSize-1 like in sample SD\n",
    "    variance = sumOfSquares/sampleSize\n",
    "    SD = variance**0.5\n",
    "    return SD"
   ]
  },
  {
   "cell_type": "code",
   "execution_count": 3,
   "metadata": {},
   "outputs": [
    {
     "name": "stdout",
     "output_type": "stream",
     "text": [
      "47496.591260247595\n",
      "63744.10862782605\n",
      "This is the z-score:  0.04\n"
     ]
    }
   ],
   "source": [
    "mean = getMean(incomeData)\n",
    "print(mean)\n",
    "popSD = getPopSD(incomeData, mean)\n",
    "print(popSD)\n",
    "\n",
    "## Select some income\n",
    "z = 50000\n",
    "\n",
    "## Calculate the z score for that income\n",
    "z_score = (z-mean)/popSD\n",
    "z_score = round(z_score, 2)\n",
    "print('This is the z-score: ', z_score)"
   ]
  },
  {
   "cell_type": "code",
   "execution_count": 4,
   "metadata": {},
   "outputs": [
    {
     "name": "stdout",
     "output_type": "stream",
     "text": [
      "An income of 50000 has a standard score of 0.04 which corresponds to a percentile of 51.59\n"
     ]
    }
   ],
   "source": [
    "# load in our z table from earlier\n",
    "z_table = []\n",
    "with open('data/z_table.csv', newline='') as zTableFile:\n",
    "    data = csv.reader(zTableFile)\n",
    "    for row in data:\n",
    "        z_table.append(row)\n",
    "# print(z_table)\n",
    "\n",
    "## Find the percentile rank of our z score in the z table\n",
    "for row in z_table:\n",
    "#     print(row[1])\n",
    "    if float(row[0]) == z_score:\n",
    "        probability = row[1]\n",
    "        percentile = round(float(probability)*100, 2)\n",
    "        print('An income of', z, 'has a standard score of', z_score,\n",
    "             'which corresponds to a percentile of', percentile)\n",
    "        break\n",
    "\n"
   ]
  },
  {
   "cell_type": "code",
   "execution_count": null,
   "metadata": {},
   "outputs": [],
   "source": []
  },
  {
   "cell_type": "code",
   "execution_count": null,
   "metadata": {},
   "outputs": [],
   "source": []
  }
 ],
 "metadata": {
  "kernelspec": {
   "display_name": "Python 3",
   "language": "python",
   "name": "python3"
  },
  "language_info": {
   "codemirror_mode": {
    "name": "ipython",
    "version": 3
   },
   "file_extension": ".py",
   "mimetype": "text/x-python",
   "name": "python",
   "nbconvert_exporter": "python",
   "pygments_lexer": "ipython3",
   "version": "3.7.4"
  }
 },
 "nbformat": 4,
 "nbformat_minor": 4
}
