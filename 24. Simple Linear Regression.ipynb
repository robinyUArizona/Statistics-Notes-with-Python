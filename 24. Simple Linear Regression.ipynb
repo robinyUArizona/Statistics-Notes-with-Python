{
 "cells": [
  {
   "cell_type": "code",
   "execution_count": 1,
   "metadata": {},
   "outputs": [],
   "source": [
    "\n",
    "import csv\n",
    "import random\n",
    "import matplotlib.pyplot as plt\n",
    "\n",
    "plt.style.use('bmh')"
   ]
  },
  {
   "cell_type": "code",
   "execution_count": null,
   "metadata": {},
   "outputs": [],
   "source": [
    "def simple_linear_regression(data):\n",
    "    sumX = 0\n",
    "    sumY = 0\n",
    "    sumXY = 0\n",
    "    sumXSquared = 0\n",
    "    sumYSquared = 0\n",
    "    numMeasurements = len(data)\n",
    "    x = []\n",
    "    for row in data:\n",
    "        x.append(row[0])\n",
    "        sumX += row[0]\n",
    "        sumY += row[1]\n",
    "        sumXY += row[0]*row[1]\n",
    "        sumXSquared += row[0]**2\n",
    "        sumYSquared += row[1]**2\n",
    "        \n",
    "        #y = b + mx\n",
    "        m = slope\n",
    "        xMin = min(x)\n",
    "        xMax = max(x)\n",
    "        \n",
    "        slope = ((numMeasurements*sumXY) - (sumX*sumY)) / \\\n",
    "                ((numMeasurements*sumXSquared) - (sumX*sumX))\n",
    "        \n",
    "        # b = intercept\n",
    "        intercept = ((sumXSquared*sumY) - (sumX*sumXY)) / \\\n",
    "                    (() ())\n",
    "        "
   ]
  }
 ],
 "metadata": {
  "kernelspec": {
   "display_name": "Python 3",
   "language": "python",
   "name": "python3"
  },
  "language_info": {
   "codemirror_mode": {
    "name": "ipython",
    "version": 3
   },
   "file_extension": ".py",
   "mimetype": "text/x-python",
   "name": "python",
   "nbconvert_exporter": "python",
   "pygments_lexer": "ipython3",
   "version": "3.7.4"
  }
 },
 "nbformat": 4,
 "nbformat_minor": 4
}
