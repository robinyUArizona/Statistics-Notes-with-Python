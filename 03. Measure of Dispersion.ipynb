{
 "cells": [
  {
   "cell_type": "markdown",
   "metadata": {},
   "source": [
    "## Range, Interquartile Range, Variance, and Standard Deviation"
   ]
  },
  {
   "cell_type": "code",
   "execution_count": 2,
   "metadata": {},
   "outputs": [],
   "source": [
    "import csv\n",
    "\n",
    "i = 0\n",
    "\n",
    "## List to hold sub sample\n",
    "data_list = []\n",
    "with open('data/usa.csv', newline='') as myFile:\n",
    "    data = csv.reader(myFile)\n",
    "    for row in data:\n",
    "#        print(i, row)\n",
    "        i += 1\n",
    "        data_list.append(row)\n",
    "        \n",
    "        # size of our sample\n",
    "        if i > 30000:\n",
    "            break"
   ]
  },
  {
   "cell_type": "code",
   "execution_count": 4,
   "metadata": {},
   "outputs": [
    {
     "data": {
      "text/html": [
       "<div>\n",
       "<style scoped>\n",
       "    .dataframe tbody tr th:only-of-type {\n",
       "        vertical-align: middle;\n",
       "    }\n",
       "\n",
       "    .dataframe tbody tr th {\n",
       "        vertical-align: top;\n",
       "    }\n",
       "\n",
       "    .dataframe thead th {\n",
       "        text-align: right;\n",
       "    }\n",
       "</style>\n",
       "<table border=\"1\" class=\"dataframe\">\n",
       "  <thead>\n",
       "    <tr style=\"text-align: right;\">\n",
       "      <th></th>\n",
       "      <th>SEX</th>\n",
       "      <th>AGE</th>\n",
       "      <th>RACE</th>\n",
       "      <th>RACED</th>\n",
       "      <th>EDUC</th>\n",
       "      <th>EDUCD</th>\n",
       "      <th>INCTOT</th>\n",
       "    </tr>\n",
       "  </thead>\n",
       "  <tbody>\n",
       "    <tr>\n",
       "      <th>0</th>\n",
       "      <td>1</td>\n",
       "      <td>73</td>\n",
       "      <td>2</td>\n",
       "      <td>200</td>\n",
       "      <td>2</td>\n",
       "      <td>25</td>\n",
       "      <td>10000</td>\n",
       "    </tr>\n",
       "    <tr>\n",
       "      <th>1</th>\n",
       "      <td>2</td>\n",
       "      <td>31</td>\n",
       "      <td>1</td>\n",
       "      <td>100</td>\n",
       "      <td>10</td>\n",
       "      <td>101</td>\n",
       "      <td>38500</td>\n",
       "    </tr>\n",
       "    <tr>\n",
       "      <th>2</th>\n",
       "      <td>1</td>\n",
       "      <td>41</td>\n",
       "      <td>1</td>\n",
       "      <td>100</td>\n",
       "      <td>6</td>\n",
       "      <td>64</td>\n",
       "      <td>82000</td>\n",
       "    </tr>\n",
       "    <tr>\n",
       "      <th>3</th>\n",
       "      <td>2</td>\n",
       "      <td>48</td>\n",
       "      <td>1</td>\n",
       "      <td>100</td>\n",
       "      <td>6</td>\n",
       "      <td>63</td>\n",
       "      <td>8700</td>\n",
       "    </tr>\n",
       "    <tr>\n",
       "      <th>4</th>\n",
       "      <td>1</td>\n",
       "      <td>16</td>\n",
       "      <td>1</td>\n",
       "      <td>100</td>\n",
       "      <td>4</td>\n",
       "      <td>40</td>\n",
       "      <td>0</td>\n",
       "    </tr>\n",
       "  </tbody>\n",
       "</table>\n",
       "</div>"
      ],
      "text/plain": [
       "   SEX  AGE  RACE  RACED  EDUC  EDUCD  INCTOT\n",
       "0    1   73     2    200     2     25   10000\n",
       "1    2   31     1    100    10    101   38500\n",
       "2    1   41     1    100     6     64   82000\n",
       "3    2   48     1    100     6     63    8700\n",
       "4    1   16     1    100     4     40       0"
      ]
     },
     "execution_count": 4,
     "metadata": {},
     "output_type": "execute_result"
    }
   ],
   "source": [
    "import pandas as pd\n",
    "\n",
    "df = pd.read_csv(\"data/usa.csv\", nrows = 30001)\n",
    "df.head()"
   ]
  },
  {
   "cell_type": "markdown",
   "metadata": {},
   "source": [
    "### Range"
   ]
  },
  {
   "cell_type": "code",
   "execution_count": 6,
   "metadata": {},
   "outputs": [
    {
     "name": "stdout",
     "output_type": "stream",
     "text": [
      "Income Range:  736800 which is between -5800 and 731000\n"
     ]
    }
   ],
   "source": [
    "justIncome = []\n",
    "for row in data_list[1:]:\n",
    "    if int(row[6]) != 9999999:\n",
    "        justIncome.append(int(row[6]))\n",
    "\n",
    "minIncome = min(justIncome)\n",
    "maxIncome = max(justIncome)\n",
    "\n",
    "rangeIncome = maxIncome - minIncome\n",
    "print('Income Range: ', rangeIncome, 'which is between', minIncome, 'and', maxIncome)"
   ]
  },
  {
   "cell_type": "markdown",
   "metadata": {},
   "source": [
    "### Interquartile Range"
   ]
  },
  {
   "cell_type": "code",
   "execution_count": 9,
   "metadata": {},
   "outputs": [
    {
     "name": "stdout",
     "output_type": "stream",
     "text": [
      "Interquartile Range:  36200\n",
      "Median:  21500\n",
      "25th percentile:  8800\n",
      "75th percentile:  45000\n"
     ]
    }
   ],
   "source": [
    "sortedData = []\n",
    "for row in data_list[1:]:\n",
    "    if int(row[6]) != 9999999:\n",
    "        sortedData.append(int(row[6]))\n",
    "        \n",
    "sortedData.sort()\n",
    "# print(sortedData)\n",
    "sampleSize = len(sortedData)\n",
    "\n",
    "q1 = sampleSize*0.25\n",
    "q2 = sampleSize*0.5\n",
    "q3 = sampleSize*0.75\n",
    "median = sortedData[round(q2)]\n",
    "q1Income = sortedData[round(q1)]\n",
    "q3Income = sortedData[round(q3)]\n",
    "\n",
    "iqr = q3Income - q1Income\n",
    "print('Interquartile Range: ', iqr)\n",
    "\n",
    "print('Median: ', median)\n",
    "print('25th percentile: ', q1Income)\n",
    "print('75th percentile: ', q3Income)"
   ]
  },
  {
   "cell_type": "markdown",
   "metadata": {},
   "source": [
    "## Variance"
   ]
  },
  {
   "cell_type": "code",
   "execution_count": 13,
   "metadata": {},
   "outputs": [
    {
     "name": "stdout",
     "output_type": "stream",
     "text": [
      "Mean:  34690.20592829962\n",
      "Sum of Squares:  59042673430866.73\n",
      "Variance:  2365112699.521981\n"
     ]
    }
   ],
   "source": [
    "# start with the average mean\n",
    "totalSumIncome = 0\n",
    "for row in sortedData:\n",
    "    totalSumIncome =  row + totalSumIncome\n",
    "\n",
    "mean = totalSumIncome / sampleSize\n",
    "print('Mean: ', mean)\n",
    "\n",
    "sumOfSquares = 0\n",
    "for row in sortedData:\n",
    "    deviationScore = row - mean\n",
    "    sumOfSquares = (deviationScore*deviationScore) + sumOfSquares\n",
    "\n",
    "print(\"Sum of Squares: \", sumOfSquares)\n",
    "\n",
    "variance = sumOfSquares / (sampleSize-1) # -1 gives degrees of freedom\n",
    "print(\"Variance: \", variance)"
   ]
  },
  {
   "cell_type": "markdown",
   "metadata": {},
   "source": [
    "## Standard Deviation"
   ]
  },
  {
   "cell_type": "code",
   "execution_count": 15,
   "metadata": {},
   "outputs": [
    {
     "name": "stdout",
     "output_type": "stream",
     "text": [
      "Standard Deviation of Income:  48632.42436401851\n"
     ]
    }
   ],
   "source": [
    "import math\n",
    "SD = math.sqrt(variance)\n",
    "print('Standard Deviation of Income: ', SD)"
   ]
  },
  {
   "cell_type": "code",
   "execution_count": null,
   "metadata": {},
   "outputs": [],
   "source": []
  }
 ],
 "metadata": {
  "kernelspec": {
   "display_name": "Python 3",
   "language": "python",
   "name": "python3"
  },
  "language_info": {
   "codemirror_mode": {
    "name": "ipython",
    "version": 3
   },
   "file_extension": ".py",
   "mimetype": "text/x-python",
   "name": "python",
   "nbconvert_exporter": "python",
   "pygments_lexer": "ipython3",
   "version": "3.7.4"
  }
 },
 "nbformat": 4,
 "nbformat_minor": 4
}
