{
 "cells": [
  {
   "cell_type": "code",
   "execution_count": 1,
   "metadata": {},
   "outputs": [],
   "source": [
    "\n",
    "\n",
    "import csv\n",
    "import random\n",
    "import matplotlib.pyplot as plt\n",
    "import numpy as np\n",
    "np.random.seed(42)"
   ]
  },
  {
   "cell_type": "code",
   "execution_count": 2,
   "metadata": {},
   "outputs": [],
   "source": [
    "incomeData = []\n",
    "\n",
    "with open('data/usa.csv', newline = '') as myFile:\n",
    "    data = csv.reader(myFile)\n",
    "    for row in data:\n",
    "        if row[6] != 'INCTOT':\n",
    "            if int(row[6]) > 1:\n",
    "                if int(row[6]) != 9999999:\n",
    "                    if int(row[1]) > 17:\n",
    "                        incomeData.append(int(row[6]))\n",
    "                        "
   ]
  },
  {
   "cell_type": "code",
   "execution_count": 3,
   "metadata": {},
   "outputs": [],
   "source": [
    "## get sample\n",
    "def getSample(population, sampleSize):\n",
    "    sampleList = random.sample(population, sampleSize)\n",
    "    return sampleList\n",
    "\n",
    "## Sample Mean\n",
    "def getMean(sampleList):\n",
    "    sampleSize = len(sampleList)\n",
    "    totalSumIncome = 0\n",
    "    for row in sampleList:\n",
    "        totalSumIncome = row + totalSumIncome\n",
    "    mean = totalSumIncome / sampleSize\n",
    "    return mean\n",
    "\n",
    "## Skewness and Kurtosis\n",
    "def getSkewAndKurtosis(sampleList):\n",
    "    sampleSize = len(sampleList)\n",
    "    \n",
    "    # Mean again\n",
    "    totalSumIncome = 0\n",
    "    for row in sampleList:\n",
    "        totalSumIncome = row + totalSumIncome\n",
    "    mean = totalSumIncome / sampleSize\n",
    "    \n",
    "    \n",
    "    # Variance\n",
    "    sumOfSquares = 0\n",
    "    s3 = 0\n",
    "    s4 = 0\n",
    "    for row in sampleList:\n",
    "        deviationScore = row - mean\n",
    "        sumOfSquares = deviationScore**2 + sumOfSquares\n",
    "        s3 = deviationScore**3 + s3\n",
    "        s4 = deviationScore**4 + s4\n",
    "    variance = sumOfSquares / (sampleSize - 1)\n",
    "    \n",
    "    \n",
    "    # Standard deviation\n",
    "    SD = variance**0.5\n",
    "    \n",
    "    ## Kurtosis\n",
    "    n = sampleSize\n",
    "    s2 = sumOfSquares\n",
    "    m2 = s2/n\n",
    "    m4 = s4/n\n",
    "    sampleKurtosis = ((n*(n+1)) / ((n-1)*(n-2)*(n-3))) * ((n-1)**2)*(s4/(s2**2)) - 3\n",
    "  \n",
    "    ## Skew\n",
    "    sampleSkew = s3/((n-1)*SD**3)\n",
    "    \n",
    "    return sampleSkew, sampleKurtosis  "
   ]
  },
  {
   "cell_type": "code",
   "execution_count": 4,
   "metadata": {},
   "outputs": [
    {
     "name": "stdout",
     "output_type": "stream",
     "text": [
      "Size of Samples Array:   3000 \n",
      "\n",
      "\n",
      "Population Mean:  47496.591260247595\n",
      "Mean of means:  47434.05475266669\n",
      "Skew:  0.09104792999388356\n",
      "Population Skew:  4.853885145255594\n",
      "Kurtosis:  -0.026698658432766642\n",
      "Population Kurtosis:  35.86795035155139\n"
     ]
    }
   ],
   "source": [
    "\n",
    "x = 0\n",
    "n = 1000 # Sample Size\n",
    "statsOfSamples = []\n",
    "numOfSamples = 3000\n",
    "while x < numOfSamples:\n",
    "    x += 1\n",
    "    mySample = getSample(incomeData, n)\n",
    "    mySampleMean = getMean(mySample)\n",
    "    statsOfSamples.append(mySampleMean)\n",
    "\n",
    "print('Size of Samples Array:  ', len(statsOfSamples), '\\n\\n')\n",
    "popMean = getMean(incomeData)\n",
    "meanOfMeans = getMean(statsOfSamples)\n",
    "\n",
    "skew, kurtosis = getSkewAndKurtosis(statsOfSamples)\n",
    "popSkew, popKurtosis = getSkewAndKurtosis(incomeData)\n",
    "\n",
    "print('Population Mean: ', popMean)\n",
    "print('Mean of means: ', meanOfMeans)\n",
    "print('Skew: ', skew)\n",
    "print('Population Skew: ', popSkew)\n",
    "print('Kurtosis: ', kurtosis)\n",
    "print('Population Kurtosis: ', popKurtosis)\n"
   ]
  },
  {
   "cell_type": "code",
   "execution_count": 5,
   "metadata": {},
   "outputs": [
    {
     "data": {
      "image/png": "[encoded data removed]",
      "text/plain": [
       "<Figure size 576x360 with 1 Axes>"
      ]
     },
     "metadata": {
      "needs_background": "light"
     },
     "output_type": "display_data"
    }
   ],
   "source": [
    "##\n",
    "plt.figure(figsize = (8, 5))\n",
    "plt.hist(statsOfSamples, bins = 50)\n",
    "plt.show()"
   ]
  },
  {
   "cell_type": "code",
   "execution_count": 6,
   "metadata": {},
   "outputs": [
    {
     "data": {
      "text/plain": [
       "<matplotlib.axes._subplots.AxesSubplot at 0x1f7af873088>"
      ]
     },
     "execution_count": 6,
     "metadata": {},
     "output_type": "execute_result"
    },
    {
     "data": {
      "image/png": "[encoded data removed]",
      "text/plain": [
       "<Figure size 576x360 with 1 Axes>"
      ]
     },
     "metadata": {},
     "output_type": "display_data"
    }
   ],
   "source": [
    "## Nice plot\n",
    "import seaborn as sns\n",
    "sns.set(style=\"whitegrid\")\n",
    "plt.figure(figsize = (8, 5))\n",
    "sns.distplot(statsOfSamples, kde=True, bins=50, color=\"b\")"
   ]
  },
  {
   "cell_type": "code",
   "execution_count": null,
   "metadata": {},
   "outputs": [],
   "source": []
  },
  {
   "cell_type": "code",
   "execution_count": null,
   "metadata": {},
   "outputs": [],
   "source": []
  }
 ],
 "metadata": {
  "kernelspec": {
   "display_name": "Python 3",
   "language": "python",
   "name": "python3"
  },
  "language_info": {
   "codemirror_mode": {
    "name": "ipython",
    "version": 3
   },
   "file_extension": ".py",
   "mimetype": "text/x-python",
   "name": "python",
   "nbconvert_exporter": "python",
   "pygments_lexer": "ipython3",
   "version": "3.7.4"
  }
 },
 "nbformat": 4,
 "nbformat_minor": 4
}
