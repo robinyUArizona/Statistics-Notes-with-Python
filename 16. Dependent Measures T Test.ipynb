{
 "cells": [
  {
   "cell_type": "code",
   "execution_count": 1,
   "metadata": {},
   "outputs": [],
   "source": [
    "import csv\n",
    "\n",
    "## Function for Mean\n",
    "def getMean(sample):\n",
    "    sampleSize = len(sample)\n",
    "    totalSumIncome = 0\n",
    "    for row in sample:\n",
    "        totalSumIncome = row + totalSumIncome\n",
    "    mean = totalSumIncome / sampleSize\n",
    "    return mean\n",
    "\n",
    "## Function target sample variance\n",
    "def getSampleVariance(sample):\n",
    "    mean = getMean(sample)\n",
    "    sumOfSquares = 0\n",
    "    sampleSize = len(sample)\n",
    "    for row in sample:\n",
    "        deviationScore = row - mean\n",
    "        sumOfSquares = deviationScore**2 + sumOfSquares\n",
    "    variance = sumOfSquares / (sampleSize-1)\n",
    "    return variance\n",
    "\n",
    "## Function target sample Standard Deviation\n",
    "def getSampleSD(sample):    \n",
    "    variance = getSampleVariance(sample)\n",
    "    sampleSD = variance**0.5\n",
    "    return sampleSD\n",
    "\n",
    "## Sample Standard Error\n",
    "def getSampleStandardError(sample):\n",
    "    sampleSize = len(sample)\n",
    "    sampleSD = getSampleSD(sample)\n",
    "    # standard error of the mean for the population\n",
    "    SSE = sampleSD / sampleSize**0.5\n",
    "    return SSE"
   ]
  },
  {
   "cell_type": "code",
   "execution_count": 2,
   "metadata": {},
   "outputs": [],
   "source": [
    "##\n",
    "def getDifferenceScores(sample):\n",
    "    differenceScores = []\n",
    "    for row in sample:\n",
    "        before = row[0]\n",
    "        after = row[1]\n",
    "        differenceScore = after - before\n",
    "        differenceScores.append(differenceScore)\n",
    "    return differenceScores"
   ]
  },
  {
   "cell_type": "code",
   "execution_count": 3,
   "metadata": {},
   "outputs": [],
   "source": [
    "def pairedSamplesTScore(sample):\n",
    "    sampleSize = len(sample)\n",
    "    differenceScores = getDifferenceScores(sample)\n",
    "    meanDifference = getMean(differenceScores)\n",
    "    SDDifference = getSampleSD(differenceScores)\n",
    "    mu = 0\n",
    "    t = (meanDifference - mu)/(SDDifference/(sampleSize**0.5))\n",
    "    return t"
   ]
  },
  {
   "cell_type": "code",
   "execution_count": 4,
   "metadata": {},
   "outputs": [],
   "source": [
    "# Getting \n",
    "def getCriticalT(alpha, df, testType = 'two-tailed'):\n",
    "    df = round(df)\n",
    "    if df > 120:\n",
    "        df = 120\n",
    "    criticalT = 0\n",
    "    \n",
    "    if testType == 'two-tailed':\n",
    "        with open('data/t_table.csv', newline='') as tFile:\n",
    "            tData = csv.reader(tFile)\n",
    "            for row in tData:\n",
    "                if int(row[0]) == df:\n",
    "                    if float(row[2]) >= (float(1-(alpha/2))):\n",
    "                        criticalT = float(row[1])\n",
    "                        break\n",
    "   \n",
    "    elif testType == 'one-tailed positive':\n",
    "        with open('data/t_table.csv', newline='') as tFile:\n",
    "            tData = csv.reader(tFile)\n",
    "            for row in tData:\n",
    "                if int(row[0]) == df:\n",
    "                    if float(row[2]) >= (float(1-(alpha))):\n",
    "                        criticalT = float(row[1])\n",
    "                        break\n",
    "\n",
    "    elif testType == 'one-tailed negative':\n",
    "        with open('data/t_table.csv', newline='') as tFile:\n",
    "            tData = csv.reader(tFile)\n",
    "            for row in tData:\n",
    "                if int(row[0]) == df:\n",
    "                    if float(row[2]) >= (float(alpha)):\n",
    "                        criticalT = float(row[1])\n",
    "                        break\n",
    "    return criticalT"
   ]
  },
  {
   "cell_type": "code",
   "execution_count": 5,
   "metadata": {},
   "outputs": [],
   "source": [
    "## p score\n",
    "def getPFromT(t, df):\n",
    "    df = round(df)\n",
    "    if df > 120:\n",
    "        df = 120\n",
    "    if t > 6:\n",
    "        p = 1.0\n",
    "    elif t < -6:\n",
    "        p = 0.0\n",
    "    elif t > -6 and t < 6:\n",
    "        with open('data/t_table.csv', newline='') as tFile:\n",
    "            tData = csv.reader(tFile)\n",
    "            for row in tData:\n",
    "                if float(row[1]) == round(float(t), 2):\n",
    "                    p = float(row[2])\n",
    "    return p"
   ]
  },
  {
   "cell_type": "code",
   "execution_count": 6,
   "metadata": {},
   "outputs": [],
   "source": [
    "## Rather than something like \"t-test\" we are just calling this significance test\n",
    "def significanceTest(sample, alpha, testType='two-tailed'):\n",
    "    sampleSize = len(sample)\n",
    "    df = sampleSize - 1\n",
    "    critT = getCriticalT(alpha, df, testType)\n",
    "    t = pairedSamplesTScore(sample)\n",
    "    p = getPFromT(t, df)\n",
    "    \n",
    "    significant = False\n",
    "    if testType == 'two-tailed':\n",
    "        if t < -critT or t > critT:\n",
    "            significant = True\n",
    "    elif testType == 'one-tailed positive':\n",
    "        if t > critT:\n",
    "            significant = True\n",
    "    elif testType == 'one-tailed negative':\n",
    "        if t < -critT:\n",
    "            significant = True\n",
    "    \n",
    "    return significant, t, critT, p"
   ]
  },
  {
   "cell_type": "code",
   "execution_count": 7,
   "metadata": {},
   "outputs": [],
   "source": [
    "# Same \n",
    "def getCI(sample, alpha):\n",
    "    mean = getMean(sample)\n",
    "    SSE = getSampleStandardError(sample)\n",
    "    df = len(sample) - 1\n",
    "    testType = 'two-tailed'\n",
    "    critT = getCriticalT(alpha, df, testType)\n",
    "    lowerCI = mean - critT*SSE\n",
    "    upperCI = mean + critT*SSE\n",
    "    error = critT*SSE\n",
    "    return lowerCI, upperCI, error"
   ]
  },
  {
   "cell_type": "code",
   "execution_count": 8,
   "metadata": {},
   "outputs": [],
   "source": [
    "## Example for today: Super amazing financial advice\n",
    "incomeData = []\n",
    "with open('data/usa.csv', newline='') as myFile:\n",
    "    data = csv.reader(myFile)\n",
    "    for row in data:\n",
    "        if row[6] != 'INCTOT':\n",
    "            if int(row[6]) > 1:\n",
    "                if int(row[6]) != 999999:\n",
    "                    if int(row[1]) > 17:\n",
    "                        incomeData.append(int(row[6]))\n"
   ]
  },
  {
   "cell_type": "code",
   "execution_count": 9,
   "metadata": {},
   "outputs": [
    {
     "name": "stdout",
     "output_type": "stream",
     "text": [
      "The Dependent T-test for paired samples was significant at alpha = 0.05 where p= 0.99995 and t = 4.0 \n",
      "Critical T = 1.72 \n",
      "Mean income before Awesome advice:  36554.58 \n",
      "Mean income after Awesome advice:  36726.12\n"
     ]
    }
   ],
   "source": [
    "import random\n",
    "\n",
    "incomeDataSample = random.sample(incomeData, 24)\n",
    "# print(incomeDataSample)\n",
    "\n",
    "incomeAfterTreatment = []\n",
    "for row in incomeDataSample:\n",
    "#     print(row)\n",
    "    treatmentImpact = random.randint(-200, 500)\n",
    "#     print(treatmentImpact)\n",
    "    afterAdviceIncome = row + treatmentImpact\n",
    "    incomeAfterTreatment.append(afterAdviceIncome)\n",
    "\n",
    "\n",
    "aggregatedIncomeData = []\n",
    "i = 0\n",
    "for row in incomeDataSample:\n",
    "    new_row = [row, incomeAfterTreatment[i]]\n",
    "    i += 1\n",
    "    aggregatedIncomeData.append(new_row)\n",
    "\n",
    "incomeSampleMean = getMean(incomeDataSample)\n",
    "incomeAfterTreatmentMean = getMean(incomeAfterTreatment)\n",
    "\n",
    "\n",
    "alpha = 0.05\n",
    "testType = 'one-tailed positive'\n",
    "\n",
    "sigBool, t, criticalT, p = significanceTest(aggregatedIncomeData, alpha,\n",
    "                                          testType)\n",
    "\n",
    "if sigBool:\n",
    "    print('The Dependent T-test for paired samples was significant at'+\n",
    "         ' alpha =', alpha, 'where p=', round(p, 5), 'and t =', round(t, 2),\n",
    "         '\\nCritical T =', criticalT, \n",
    "         '\\nMean income before Awesome advice: ', round(incomeSampleMean, 2),\n",
    "         '\\nMean income after Awesome advice: ', round(incomeAfterTreatmentMean, 2))\n",
    "if not sigBool:\n",
    "    print('The Dependent T-test for paired samples was NOT significant at'+\n",
    "         ' alpha =', alpha, 'where p=', round(p, 5), 'and t =', round(t, 2),\n",
    "         '\\nCritical T =', criticalT, \n",
    "         '\\nMean income before Awesome advice: ', round(incomeSampleMean, 2),\n",
    "         '\\nMean income after Awesome advice: ', round(incomeAfterTreatmentMean, 2))\n",
    "\n",
    "    \n",
    "## CIs\n",
    "beforeLower, beforeUpper, beforeError = getCI(incomeDataSample, alpha)\n",
    "afterLower, afterUpper, afterError = getCI(incomeAfterTreatment, alpha)"
   ]
  },
  {
   "cell_type": "code",
   "execution_count": 10,
   "metadata": {},
   "outputs": [
    {
     "data": {
      "image/png": "[encoded data removed]",
      "text/plain": [
       "<Figure size 432x288 with 1 Axes>"
      ]
     },
     "metadata": {
      "needs_background": "light"
     },
     "output_type": "display_data"
    }
   ],
   "source": [
    "import matplotlib.pyplot as plt\n",
    "plt.style.use('bmh')\n",
    "labels = ['Before Advice Income', 'After Advice Income']\n",
    "means = [incomeSampleMean, incomeAfterTreatmentMean]\n",
    "CIs = [beforeError, afterError]\n",
    "positions = [0, 1]\n",
    "\n",
    "plt.bar(positions, means, color='grey', yerr=CIs, width=0.5, \n",
    "        align='center', ecolor='black', capsize=5)\n",
    "plt.xlabel('Average Income Before and After Advice')\n",
    "plt.ylabel('Mean Income($)')\n",
    "plt.title('Mean Income Before and After Advice')\n",
    "plt.xticks(positions, labels)\n",
    "plt.show()"
   ]
  },
  {
   "cell_type": "code",
   "execution_count": null,
   "metadata": {},
   "outputs": [],
   "source": []
  }
 ],
 "metadata": {
  "kernelspec": {
   "display_name": "Python 3",
   "language": "python",
   "name": "python3"
  },
  "language_info": {
   "codemirror_mode": {
    "name": "ipython",
    "version": 3
   },
   "file_extension": ".py",
   "mimetype": "text/x-python",
   "name": "python",
   "nbconvert_exporter": "python",
   "pygments_lexer": "ipython3",
   "version": "3.7.4"
  }
 },
 "nbformat": 4,
 "nbformat_minor": 4
}
