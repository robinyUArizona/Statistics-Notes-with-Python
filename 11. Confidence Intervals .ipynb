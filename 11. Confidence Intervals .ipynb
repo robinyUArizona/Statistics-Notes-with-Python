{
 "cells": [
  {
   "cell_type": "code",
   "execution_count": 1,
   "metadata": {},
   "outputs": [],
   "source": [
    "import csv\n",
    "\n",
    "## Function for Mean\n",
    "def getMean(sampleList):\n",
    "    sampleSize = len(sampleList)\n",
    "    totalSumIncome = 0\n",
    "    for row in sampleList:\n",
    "        totalSumIncome = row + totalSumIncome\n",
    "    mean = totalSumIncome / sampleSize\n",
    "    return mean\n",
    "\n",
    "## Function target sample Standard Deviation\n",
    "def getSampleSD(sampleList):\n",
    "    mean = getMean(sampleList)\n",
    "    sumOfSquares = 0\n",
    "    sampleSize = len(sampleList)\n",
    "    for row in sampleList:\n",
    "        deviationScore = row - mean\n",
    "        sumOfSquares = deviationScore**2 + sumOfSquares\n",
    "    \n",
    "    variance = sumOfSquares / (sampleSize-1)\n",
    "    sampleSD = variance**0.5\n",
    "    return sampleSD\n",
    "\n",
    "## Sample Standard Error\n",
    "def getSampleStandardError(sampleList):\n",
    "    sampleSize = len(sampleList)\n",
    "    sampleSD = getSampleSD(sampleList)\n",
    "    # standard error of the mean for the population\n",
    "    SSE = sampleSD / sampleSize**0.5\n",
    "    return SSE"
   ]
  },
  {
   "cell_type": "code",
   "execution_count": 2,
   "metadata": {},
   "outputs": [],
   "source": [
    "\n",
    "# def getCriticalT(alpha, sampleList):\n",
    "#     sampleSize = len(sampleList)\n",
    "#     df = sampleSize - 1\n",
    "#     criticalT = 0\n",
    "#     with open('data/t_table.csv', newline='') as tFile:\n",
    "#         tData = csv.reader(tFile)\n",
    "#         for row in tData:\n",
    "#             if int(row[0]) == df:\n",
    "#                 if float(row[2]) >= (float(1-(alpha/2))):\n",
    "#                     criticalT = float(row[1])\n",
    "#                     break\n",
    "#     print(criticalT)\n",
    "#     return criticalT\n",
    "\n",
    "def getCriticalT(alpha, sampleList):\n",
    "    sampleSize = len(sampleList)\n",
    "    df = sampleSize - 1\n",
    "    if df > 120:\n",
    "        df = 120\n",
    "    criticalT = 0\n",
    "    with open('data/t_table.csv', newline='') as tFile:\n",
    "        tData = csv.reader(tFile)\n",
    "        for row in tData:\n",
    "            if int(row[0]) == df:\n",
    "                if float(row[2]) >= (float(1-(alpha/2))):\n",
    "                    criticalT = float(row[1])\n",
    "                    break\n",
    "    return criticalT"
   ]
  },
  {
   "cell_type": "code",
   "execution_count": 3,
   "metadata": {},
   "outputs": [],
   "source": [
    "##\n",
    "def getCI(sampleList, alpha):\n",
    "    mean = getMean(sampleList)\n",
    "    SSE = getSampleStandardError(sampleList)\n",
    "    critT = getCriticalT(alpha, sampleList)\n",
    "    print('Critical T:', critT)\n",
    "    lowerCI = mean - critT * SSE\n",
    "    upperCI = mean + critT * SSE\n",
    "    return lowerCI, upperCI"
   ]
  },
  {
   "cell_type": "code",
   "execution_count": 4,
   "metadata": {},
   "outputs": [],
   "source": [
    "##\n",
    "incomeData = []\n",
    "with open('data/usa.csv', newline='') as myFile:\n",
    "    data = csv.reader(myFile)\n",
    "    for row in data:\n",
    "        if row[6] != 'INCTOT':\n",
    "            if int(row[6]) > 1:\n",
    "                if int(row[6]) != 9999999:\n",
    "                    if int(row[1]) > 17:\n",
    "                        incomeData.append(int(row[6]))"
   ]
  },
  {
   "cell_type": "code",
   "execution_count": 5,
   "metadata": {},
   "outputs": [
    {
     "name": "stdout",
     "output_type": "stream",
     "text": [
      "Critical T: 1.98\n",
      "The 95% CI for the sample is 47412.94 to 47580.24\n"
     ]
    }
   ],
   "source": [
    "##\n",
    "import random\n",
    "incomeSample = random.sample(incomeData, 100)\n",
    "alpha = 0.05\n",
    "lower, upper = getCI(incomeData, alpha)\n",
    "print('The 95% CI for the sample is', round(lower, 2), 'to', round(upper, 2))"
   ]
  },
  {
   "cell_type": "code",
   "execution_count": null,
   "metadata": {},
   "outputs": [],
   "source": []
  },
  {
   "cell_type": "code",
   "execution_count": null,
   "metadata": {},
   "outputs": [],
   "source": []
  }
 ],
 "metadata": {
  "kernelspec": {
   "display_name": "Python 3",
   "language": "python",
   "name": "python3"
  },
  "language_info": {
   "codemirror_mode": {
    "name": "ipython",
    "version": 3
   },
   "file_extension": ".py",
   "mimetype": "text/x-python",
   "name": "python",
   "nbconvert_exporter": "python",
   "pygments_lexer": "ipython3",
   "version": "3.7.4"
  }
 },
 "nbformat": 4,
 "nbformat_minor": 4
}
