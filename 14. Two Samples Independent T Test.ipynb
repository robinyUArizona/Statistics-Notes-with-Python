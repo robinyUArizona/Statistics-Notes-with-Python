{
 "cells": [
  {
   "cell_type": "code",
   "execution_count": 1,
   "metadata": {},
   "outputs": [],
   "source": [
    "import csv\n",
    "\n",
    "## Function for Mean\n",
    "def getMean(sample):\n",
    "    sampleSize = len(sample)\n",
    "    totalSumIncome = 0\n",
    "    for row in sample:\n",
    "        totalSumIncome = row + totalSumIncome\n",
    "    mean = totalSumIncome / sampleSize\n",
    "    return mean\n",
    "\n",
    "## Function target sample variance\n",
    "def getSampleVariance(sample):\n",
    "    mean = getMean(sample)\n",
    "    sumOfSquares = 0\n",
    "    sampleSize = len(sample)\n",
    "    for row in sample:\n",
    "        deviationScore = row - mean\n",
    "        sumOfSquares = deviationScore**2 + sumOfSquares\n",
    "    variance = sumOfSquares / (sampleSize-1)\n",
    "    return variance\n",
    "\n",
    "## Function target sample Standard Deviation\n",
    "def getSampleSD(sample):\n",
    "    mean = getMean(sample)\n",
    "    sumOfSquares = 0\n",
    "    sampleSize = len(sample)\n",
    "    for row in sample:\n",
    "        deviationScore = row - mean\n",
    "        sumOfSquares = deviationScore**2 + sumOfSquares\n",
    "    \n",
    "    variance = sumOfSquares / (sampleSize-1)\n",
    "    sampleSD = variance**0.5\n",
    "    return sampleSD\n",
    "\n",
    "## Sample Standard Error\n",
    "def getSampleStandardError(sample):\n",
    "    sampleSize = len(sample)\n",
    "    sampleSD = getSampleSD(sample)\n",
    "    # standard error of the mean for the population\n",
    "    SSE = sampleSD / sampleSize**0.5\n",
    "    return SSE"
   ]
  },
  {
   "cell_type": "code",
   "execution_count": 2,
   "metadata": {},
   "outputs": [],
   "source": [
    "##\n",
    "def getPoolSD(sample1, sample2):\n",
    "    variance1 = getSampleVariance(sample1)\n",
    "    variance2 = getSampleVariance(sample2)\n",
    "    sampleSize1 = len(sample1)\n",
    "    sampleSize2 = len(sample2)\n",
    "    if sampleSize1 == sampleSize2:\n",
    "        pooledVariance = (variance1 + variance2)/2\n",
    "        pooledSD = pooledVariance**0.5\n",
    "    else:\n",
    "        numerator = (sampleSize1-1)*variance1 + (sampleSize2-1)*variance2\n",
    "        denominator = sampleSize1 + sampleSize2 - 2 #df for this test\n",
    "        pooledSD = (numerator/denominator)**0.5\n",
    "    return pooledSD"
   ]
  },
  {
   "cell_type": "code",
   "execution_count": 3,
   "metadata": {},
   "outputs": [],
   "source": [
    "##\n",
    "def twoIndependentSamplesTScore(sample1, sample2):\n",
    "    mean1 = getMean(sample1)\n",
    "    mean2 = getMean(sample2)\n",
    "    sampleSize1 = len(sample1)\n",
    "    sampleSize2 = len(sample2)\n",
    "    pooledSD = getPoolSD(sample1, sample2)\n",
    "    if sampleSize1 == sampleSize2:\n",
    "        pooledSE = pooledSD*((2/sampleSize1)**0.5)\n",
    "        t = (mean1 - mean2)/pooledSE\n",
    "    else:\n",
    "        print(\"Warning: Unequal Sample Sizes\")\n",
    "        pooledSE = pooledSD*(((1/sampleSize1) + (1/sampleSize2))**0.5)\n",
    "        t = (mean1 - mean2)/pooledSE\n",
    "    return t"
   ]
  },
  {
   "cell_type": "code",
   "execution_count": 4,
   "metadata": {},
   "outputs": [],
   "source": [
    "##\n",
    "def getCriticalT(alpha, df, testType = 'two-tailed'):\n",
    "    if df > 120:\n",
    "        df = 120\n",
    "    criticalT = 0\n",
    "    \n",
    "    if testType == 'two-tailed':\n",
    "        with open('data/t_table.csv', newline='') as tFile:\n",
    "            tData = csv.reader(tFile)\n",
    "            for row in tData:\n",
    "                if int(row[0]) == df:\n",
    "                    if float(row[2]) >= (float(1-(alpha/2))):\n",
    "                        criticalT = float(row[1])\n",
    "                        break\n",
    "   \n",
    "    elif testType == 'one-tailed positive':\n",
    "        with open('data/t_table.csv', newline='') as tFile:\n",
    "            tData = csv.reader(tFile)\n",
    "            for row in tData:\n",
    "                if int(row[0]) == df:\n",
    "                    if float(row[2]) >= (float(1-(alpha))):\n",
    "                        criticalT = float(row[1])\n",
    "                        break\n",
    "\n",
    "    elif testType == 'one-tailed negative':\n",
    "        with open('data/t_table.csv', newline='') as tFile:\n",
    "            tData = csv.reader(tFile)\n",
    "            for row in tData:\n",
    "                if int(row[0]) == df:\n",
    "                    if float(row[2]) >= (float(alpha)):\n",
    "                        criticalT = float(row[1])\n",
    "                        break\n",
    "    return criticalT"
   ]
  },
  {
   "cell_type": "code",
   "execution_count": 5,
   "metadata": {},
   "outputs": [],
   "source": [
    "##\n",
    "def getPFromT(t, df):\n",
    "    p = None\n",
    "    if df > 120:\n",
    "        df = 120\n",
    "    if t > 6:\n",
    "        p = 1.0\n",
    "    elif t < -6:\n",
    "        p = 0.0\n",
    "    elif t > -6 and t < 6:\n",
    "        with open('data/t_table.csv', newline='') as tFile:\n",
    "            tData = csv.reader(tFile)\n",
    "            for row in tData:\n",
    "                if float(row[1]) == round(float(t), 2):\n",
    "                    p = float(row[2])\n",
    "    return p"
   ]
  },
  {
   "cell_type": "code",
   "execution_count": 6,
   "metadata": {},
   "outputs": [],
   "source": [
    "##\n",
    "def twoIndependentSamplesTTest(sample1, sample2, alpha, testType='two-tailed'):\n",
    "    sampleSize1 = len(sample1)\n",
    "    sampleSize2 = len(sample2)\n",
    "    df = sampleSize1 + sampleSize2 - 2\n",
    "    critT = getCriticalT(alpha, df, testType)\n",
    "    t = twoIndependentSamplesTScore(sample1, sample2)\n",
    "    p = getPFromT(t, df)\n",
    "    \n",
    "    significant = False\n",
    "    if testType == 'two-tailed':\n",
    "        if t < -critT or t > critT:\n",
    "            significant = True\n",
    "    elif testType == 'one-tailed positive':\n",
    "        if t > critT:\n",
    "            significant = True\n",
    "    elif testType == 'one-tailed negative':\n",
    "        if t < -critT:\n",
    "            significant = True\n",
    "    \n",
    "    return significant, t, critT, p\n",
    "    "
   ]
  },
  {
   "cell_type": "code",
   "execution_count": 7,
   "metadata": {},
   "outputs": [],
   "source": [
    "##\n",
    "def getCI(sample, alpha):\n",
    "    mean = getMean(sample)\n",
    "    SSE = getSampleStandardError(sample)\n",
    "    df = len(sample) - 1\n",
    "    testType = 'two-tailed'\n",
    "    critT = getCriticalT(alpha, df, testType)\n",
    "    lowerCI = mean - critT*SSE\n",
    "    upperCI = mean + critT*SSE\n",
    "    error = critT*SSE\n",
    "    return lowerCI, upperCI, error"
   ]
  },
  {
   "cell_type": "code",
   "execution_count": 8,
   "metadata": {},
   "outputs": [],
   "source": [
    "## \n",
    "\n",
    "japaneseMaleIncomeData = []\n",
    "japaneseFemaleIncomeData = []\n",
    "\n",
    "with open('data/usa.csv', newline='') as myFile:\n",
    "    data = csv.reader(myFile)\n",
    "    for row in data:\n",
    "        if row[6] != 'INCTOT':\n",
    "            if int(row[6]) > 1:\n",
    "                if int(row[6]) != 999999:\n",
    "                    if int(row[1]) > 17:\n",
    "                        if int(row[2]) == 5:\n",
    "                            if int(row[0]) == 1:\n",
    "                                japaneseMaleIncomeData.append(int(row[6]))\n",
    "                            if int(row[0]) == 2:\n",
    "                                japaneseFemaleIncomeData.append(int(row[6]))                               "
   ]
  },
  {
   "cell_type": "code",
   "execution_count": 9,
   "metadata": {},
   "outputs": [
    {
     "name": "stdout",
     "output_type": "stream",
     "text": [
      "The two sample independent means T test was significant at alpha= 0.05 where p= 0.99994  and t= 3.96 .\n",
      "Critical T:  1.98 \n",
      "Mean Income for Japanese Males:  79679.2 \n",
      "Mean Income for Japanese Females:  44239.4\n"
     ]
    }
   ],
   "source": [
    "\n",
    "import random\n",
    "japaneseMaleIncomeSample = random.sample(japaneseMaleIncomeData, 100)\n",
    "japaneseFemaleIncomeSample = random.sample(japaneseFemaleIncomeData, 100)\n",
    "\n",
    "japanMaleMean = getMean(japaneseMaleIncomeSample)\n",
    "japanFemaleMean = getMean(japaneseFemaleIncomeSample)\n",
    "\n",
    "alpha = 0.05\n",
    "\n",
    "testType = 'two-tailed'\n",
    "\n",
    "sigBool, t, criticalT, p = twoIndependentSamplesTTest(japaneseMaleIncomeSample,\n",
    "                                                     japaneseFemaleIncomeSample,\n",
    "                                                     alpha, testType)\n",
    "if sigBool:\n",
    "    print('The two sample independent means T test was significant at alpha=', alpha, \n",
    "         'where p=', round(p, 5), ' and t=', round(t, 2), \n",
    "         '.\\nCritical T: ', criticalT, \n",
    "         '\\nMean Income for Japanese Males: ', round(japanMaleMean, 2),\n",
    "         '\\nMean Income for Japanese Females: ', round(japanFemaleMean, 2))\n",
    "if not sigBool:\n",
    "    print('The two sample independent means T test was NOT significant at alpha=', alpha, \n",
    "         'where p=', round(p, 5), ' and t=', round(t, 2), \n",
    "         '.\\nCritical T: ', criticalT, \n",
    "         '\\nMean Income for Japanese Males: ', round(japanMaleMean, 2),\n",
    "         '\\nMean Income for Japanese Females: ', round(japanFemaleMean, 2))   \n",
    "\n",
    "    \n",
    "## CIs\n",
    "japanMaleLower, japanMaleUpper, japanMaleError = getCI(japaneseMaleIncomeSample, alpha)\n",
    "japanFemaleLower, japanFemaleUpper, japanFemaleError = getCI(japaneseFemaleIncomeSample, alpha)\n"
   ]
  },
  {
   "cell_type": "code",
   "execution_count": 10,
   "metadata": {},
   "outputs": [
    {
     "data": {
      "image/png": "[encoded data removed]",
      "text/plain": [
       "<Figure size 432x288 with 1 Axes>"
      ]
     },
     "metadata": {
      "needs_background": "light"
     },
     "output_type": "display_data"
    }
   ],
   "source": [
    "\n",
    "import matplotlib.pyplot as plt\n",
    "plt.style.use('bmh')\n",
    "labels = ['Japanese Male Income', 'Japanese Female Income']\n",
    "means = [japanMaleMean, japanFemaleMean]\n",
    "CIs = [japanMaleError, japanFemaleError]\n",
    "positions = [0, 1]\n",
    "\n",
    "plt.bar(positions, means, color='grey', yerr=CIs, width=0.5, \n",
    "        align='center', ecolor='black', capsize=5)\n",
    "plt.xlabel('Male and Female Japanese')\n",
    "plt.ylabel('Mean Income($)')\n",
    "plt.title('Mean Income Across Male and Female Japanese Americans')\n",
    "plt.xticks(positions, labels)\n",
    "plt.show()\n"
   ]
  },
  {
   "cell_type": "code",
   "execution_count": null,
   "metadata": {},
   "outputs": [],
   "source": []
  }
 ],
 "metadata": {
  "kernelspec": {
   "display_name": "Python 3",
   "language": "python",
   "name": "python3"
  },
  "language_info": {
   "codemirror_mode": {
    "name": "ipython",
    "version": 3
   },
   "file_extension": ".py",
   "mimetype": "text/x-python",
   "name": "python",
   "nbconvert_exporter": "python",
   "pygments_lexer": "ipython3",
   "version": "3.7.4"
  }
 },
 "nbformat": 4,
 "nbformat_minor": 4
}
